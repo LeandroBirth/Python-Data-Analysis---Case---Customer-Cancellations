{
 "cells": [
  {
   "cell_type": "markdown",
   "metadata": {},
   "source": [
    "Python Insights - Analyzing Data with Python\n",
    "\n",
    "Case - Customer Cancellations\n",
    "You have been hired by a company with over 800,000 customers for a Data project. Recently, the company noticed that the majority of its customer base consists of inactive clients, meaning they have already canceled the service.\n",
    "To improve its results, the company wants to understand the main reasons behind these cancellations and identify the most effective actions to reduce this number."
   ]
  },
  {
   "cell_type": "code",
   "execution_count": null,
   "metadata": {},
   "outputs": [],
   "source": []
  }
 ],
 "metadata": {
  "kernelspec": {
   "display_name": "base",
   "language": "python",
   "name": "python3"
  },
  "language_info": {
   "codemirror_mode": {
    "name": "ipython",
    "version": 3
   },
   "file_extension": ".py",
   "mimetype": "text/x-python",
   "name": "python",
   "nbconvert_exporter": "python",
   "pygments_lexer": "ipython3",
   "version": "3.10.9"
  },
  "orig_nbformat": 4
 },
 "nbformat": 4,
 "nbformat_minor": 2
}
